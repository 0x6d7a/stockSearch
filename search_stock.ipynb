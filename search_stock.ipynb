{
 "cells": [
  {
   "cell_type": "code",
   "execution_count": 2,
   "metadata": {},
   "outputs": [],
   "source": [
    "import beepy\n",
    "import numpy as np\n",
    "import time\n",
    "import datetime\n",
    "from dateutil.relativedelta import relativedelta\n",
    "import tushare as ts\n",
    "import pandas as pd\n",
    "import matplotlib.pyplot as plt\n",
    "\n",
    "# Set token here\n",
    "pro = ts.pro_api('')"
   ]
  },
  {
   "cell_type": "code",
   "execution_count": 8,
   "metadata": {},
   "outputs": [],
   "source": [
    "# Helper functions\n",
    "\n",
    "def countdown_timer(x, now=datetime.datetime.now):\n",
    "    target = now()\n",
    "    one_second_later = datetime.timedelta(seconds=1)\n",
    "    for remaining in range(x, 0, -1):\n",
    "        target += one_second_later\n",
    "        print(datetime.timedelta(seconds=remaining), 'remaining', end='\\r')\n",
    "        time.sleep((target - now()).total_seconds())\n",
    "    print('\\nTIMER ended')\n",
    "    \n",
    "    \n",
    "def get_data(pro, t, startDate, endDate, fileds):\n",
    "    try:\n",
    "        df = pro.daily(ts_code=t, start_date=startDate, end_date=endDate, fields='ts_code,trade_date,high,low,close')\n",
    "    except:\n",
    "        df = get_data(pro, t, startDate, endDate, fileds)\n",
    "        \n",
    "    return df\n",
    "\n",
    "def get_all_hist_data(pro, stockdata, startDate, endDate, fields, step, savecsv=1):\n",
    "    [rows, cols] = stockdata.shape\n",
    "    frames = []\n",
    "    for k in range(0,np.ceil(rows/step)):\n",
    "    \n",
    "        countdown_timer(60)\n",
    "        print('\\nStart batch', k)\n",
    "\n",
    "        if(k == np.floor(rows/step)):\n",
    "            tickers = stockdata['ts_code'][k*step:]\n",
    "        else:\n",
    "            tickers = stockdata['ts_code'][k*step:(k+1)*step]\n",
    "\n",
    "        for t in tickers:\n",
    "            df = get_data(pro, t, startDate, endDate, fields)\n",
    "            print(t, end='\\r')\n",
    "            frames.append(df)\n",
    "            if k == 7:\n",
    "                if t is tickers[-1:].to_string(index=False).strip():\n",
    "                    print(\"\\nDone.\")\n",
    "                    beepy.beep(sound=1)\n",
    "            else:\n",
    "                if t is tickers[(k+1)*step - 1]:\n",
    "                    print(\"\\nDone.\")\n",
    "                    beepy.beep(sound=1)\n",
    "                \n",
    "    myStockData = pd.concat(frames, ignore_index=1)\n",
    "    if savecsv == 1:\n",
    "        myStockData.to_csv('myStockData.csv', encoding='utf-8-sig')\n",
    "        \n",
    "    return myStockData\n",
    "\n",
    "\n",
    "def findStock(dataframe, queries):\n",
    "    if 'high' in queries:\n",
    "        mydf = dataframe.loc[(dataframe['high'] == queries['high'])]\n",
    "    elif 'low' in queries:\n",
    "        mydf = dataframe.loc[(dataframe['low'] == queries['low'])]\n",
    "\n",
    "    candidates = np.unique(mydf['ts_code'])\n",
    "    potentials = []\n",
    "    for t in candidates:\n",
    "        fData = dataframe.loc[(dataframe['ts_code']== t) & (dataframe['trade_date'] == 20200403) & (dataframe['close'] > queries['lower_bound']) & (dataframe['close'] < queries['upper_bound'])]\n",
    "        if(len(fData) != 0):\n",
    "            potentials.append(fData)\n",
    "            \n",
    "    beepy.beep(sound=1)\n",
    "    return pd.concat(potentials, ignore_index=1)"
   ]
  },
  {
   "cell_type": "code",
   "execution_count": 70,
   "metadata": {},
   "outputs": [],
   "source": [
    "stockdata = pd.read_csv('stock_tickers.csv')\n",
    "\n",
    "# Time range\n",
    "endDate = '20200405'\n",
    "t = datetime.datetime.strptime(endDate, '%Y%m%d')\n",
    "t_startDate = t - relativedelta(years=5)\n",
    "startDate = t_startDate.strftime('%Y%m%d')\n",
    "\n",
    "# Pause after step to avoid ip banned\n",
    "step = 500"
   ]
  },
  {
   "cell_type": "code",
   "execution_count": 92,
   "metadata": {},
   "outputs": [],
   "source": [
    "myStockData = pd.read_csv('myStockData.csv')\n",
    "df = findStock(myStockData, {'high': 45.88, 'lower_bound':9, 'upper_bound':15})"
   ]
  },
  {
   "cell_type": "code",
   "execution_count": 61,
   "metadata": {},
   "outputs": [
    {
     "data": {
      "image/png": "[encoded data removed]",
      "text/plain": [
       "<Figure size 432x288 with 1 Axes>"
      ]
     },
     "metadata": {
      "needs_background": "light"
     },
     "output_type": "display_data"
    }
   ],
   "source": [
    "mydf = mydf.reset_index()\n",
    "mydf = mydf\n",
    "plt.plot(mydf['high'])\n",
    "plt.show()"
   ]
  }
 ],
 "metadata": {
  "kernelspec": {
   "display_name": "Python 3",
   "language": "python",
   "name": "python3"
  },
  "language_info": {
   "codemirror_mode": {
    "name": "ipython",
    "version": 3
   },
   "file_extension": ".py",
   "mimetype": "text/x-python",
   "name": "python",
   "nbconvert_exporter": "python",
   "pygments_lexer": "ipython3",
   "version": "3.7.4"
  }
 },
 "nbformat": 4,
 "nbformat_minor": 4
}
